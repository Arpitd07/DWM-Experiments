{
 "cells": [
  {
   "cell_type": "code",
   "execution_count": 3,
   "id": "9cdf69a8-272b-41f0-b9a1-8c921c643c42",
   "metadata": {},
   "outputs": [
    {
     "name": "stdin",
     "output_type": "stream",
     "text": [
      "Enter number of data points:  6\n"
     ]
    },
    {
     "name": "stdout",
     "output_type": "stream",
     "text": [
      "Enter each point (x y):\n"
     ]
    },
    {
     "name": "stdin",
     "output_type": "stream",
     "text": [
      " 0.4 0.53\n",
      " 0.22 0.38\n",
      " 0.35 0.32\n",
      " 0.26 0.19\n",
      " 0.08 0.41\n",
      " 0.45 0.30\n",
      "Enter number of clusters:  3\n"
     ]
    },
    {
     "name": "stdout",
     "output_type": "stream",
     "text": [
      "\n",
      "Clusters:\n",
      "Cluster 1: [[0.4, 0.53]]\n",
      "Cluster 2: [[0.22, 0.38], [0.35, 0.32], [0.45, 0.3], [0.08, 0.41]]\n",
      "Cluster 3: [[0.26, 0.19]]\n"
     ]
    }
   ],
   "source": [
    "import math\n",
    "\n",
    "def euclidean(p1, p2): \n",
    "    x1, y1 = p1\n",
    "    x2, y2 = p2 \n",
    "    return math.sqrt((x1 - x2) ** 2 + (y1 - y2) ** 2)\n",
    "\n",
    "def cluster_distance(c1, c2): \n",
    "    return min(euclidean(p1, p2) for p1 in c1 for p2 in c2)\n",
    "\n",
    "def agglomerative_clustering(data, k): \n",
    "    clusters = [[point] for point in data] \n",
    "    while len(clusters) > k: \n",
    "        min_dist = float('inf') \n",
    "        pair_to_merge = (0, 1) \n",
    "        for i in range(len(clusters)): \n",
    "            for j in range(i + 1, len(clusters)): \n",
    "                dist = cluster_distance(clusters[i], clusters[j])  \n",
    "                if dist < min_dist: \n",
    "                    min_dist = dist \n",
    "                    pair_to_merge = (i, j) \n",
    "        i, j = pair_to_merge \n",
    "        clusters[i].extend(clusters[j]) \n",
    "        clusters.pop(j) \n",
    "    return clusters \n",
    "\n",
    "n = int(input(\"Enter number of data points: \")) \n",
    "data = [] \n",
    "print(\"Enter each point (x y):\") \n",
    "for _ in range(n): \n",
    "    x, y = map(float, input().split()) \n",
    "    data.append([x, y]) \n",
    "\n",
    "k = int(input(\"Enter number of clusters: \")) \n",
    "clusters = agglomerative_clustering(data, k) \n",
    "\n",
    "print(\"\\nClusters:\")\n",
    "for idx, cluster in enumerate(clusters, 1): \n",
    "    print(f\"Cluster {idx}: {cluster}\")"
   ]
  },
  {
   "cell_type": "code",
   "execution_count": 4,
   "id": "467fe3eb-4684-41ef-92cb-63dbcee0cf1e",
   "metadata": {},
   "outputs": [
    {
     "name": "stdin",
     "output_type": "stream",
     "text": [
      "Enter number of data points:  6\n"
     ]
    },
    {
     "name": "stdout",
     "output_type": "stream",
     "text": [
      "Enter each point (x y):\n"
     ]
    },
    {
     "name": "stdin",
     "output_type": "stream",
     "text": [
      " 0.4 0.53\n",
      " 0.22 0.38\n",
      " 0.35 0.32\n",
      " 0.26 0.19\n",
      " 0.08 0.41\n",
      " 0.45 0.30\n",
      "Enter number of clusters:  2\n"
     ]
    },
    {
     "name": "stdout",
     "output_type": "stream",
     "text": [
      "\n",
      "Clusters:\n",
      "Cluster 1: [[0.4, 0.53]]\n",
      "Cluster 2: [[0.22, 0.38], [0.35, 0.32], [0.45, 0.3], [0.08, 0.41], [0.26, 0.19]]\n"
     ]
    }
   ],
   "source": [
    "import math\n",
    "\n",
    "def euclidean(p1, p2): \n",
    "    x1, y1 = p1\n",
    "    x2, y2 = p2 \n",
    "    return math.sqrt((x1 - x2) ** 2 + (y1 - y2) ** 2)\n",
    "\n",
    "def cluster_distance(c1, c2): \n",
    "    return min(euclidean(p1, p2) for p1 in c1 for p2 in c2)\n",
    "\n",
    "def agglomerative_clustering(data, k): \n",
    "    clusters = [[point] for point in data] \n",
    "    while len(clusters) > k: \n",
    "        min_dist = float('inf') \n",
    "        pair_to_merge = (0, 1) \n",
    "        for i in range(len(clusters)): \n",
    "            for j in range(i + 1, len(clusters)): \n",
    "                dist = cluster_distance(clusters[i], clusters[j])  \n",
    "                if dist < min_dist: \n",
    "                    min_dist = dist \n",
    "                    pair_to_merge = (i, j) \n",
    "        i, j = pair_to_merge \n",
    "        clusters[i].extend(clusters[j]) \n",
    "        clusters.pop(j) \n",
    "    return clusters \n",
    "\n",
    "n = int(input(\"Enter number of data points: \")) \n",
    "data = [] \n",
    "print(\"Enter each point (x y):\") \n",
    "for _ in range(n): \n",
    "    x, y = map(float, input().split()) \n",
    "    data.append([x, y]) \n",
    "\n",
    "k = int(input(\"Enter number of clusters: \")) \n",
    "clusters = agglomerative_clustering(data, k) \n",
    "\n",
    "print(\"\\nClusters:\")\n",
    "for idx, cluster in enumerate(clusters, 1): \n",
    "    print(f\"Cluster {idx}: {cluster}\")"
   ]
  },
  {
   "cell_type": "code",
   "execution_count": 5,
   "id": "2ebdfdc5-4188-426b-8731-e2f99d075596",
   "metadata": {},
   "outputs": [
    {
     "name": "stdin",
     "output_type": "stream",
     "text": [
      "Enter number of data points:  6\n"
     ]
    },
    {
     "name": "stdout",
     "output_type": "stream",
     "text": [
      "Enter each point (x y):\n"
     ]
    },
    {
     "name": "stdin",
     "output_type": "stream",
     "text": [
      " 0.4 0.53\n",
      " 0.22 0.38\n",
      " 0.35 0.32\n",
      " 0.26 0.19\n",
      " 0.08 0.41\n",
      " 0.45 0.30\n",
      "Enter number of clusters:  1\n"
     ]
    },
    {
     "name": "stdout",
     "output_type": "stream",
     "text": [
      "\n",
      "Clusters:\n",
      "Cluster 1: [[0.4, 0.53], [0.22, 0.38], [0.35, 0.32], [0.45, 0.3], [0.08, 0.41], [0.26, 0.19]]\n"
     ]
    }
   ],
   "source": [
    "import math\n",
    "\n",
    "def euclidean(p1, p2): \n",
    "    x1, y1 = p1\n",
    "    x2, y2 = p2 \n",
    "    return math.sqrt((x1 - x2) ** 2 + (y1 - y2) ** 2)\n",
    "\n",
    "def cluster_distance(c1, c2): \n",
    "    return min(euclidean(p1, p2) for p1 in c1 for p2 in c2)\n",
    "\n",
    "def agglomerative_clustering(data, k): \n",
    "    clusters = [[point] for point in data] \n",
    "    while len(clusters) > k: \n",
    "        min_dist = float('inf') \n",
    "        pair_to_merge = (0, 1) \n",
    "        for i in range(len(clusters)): \n",
    "            for j in range(i + 1, len(clusters)): \n",
    "                dist = cluster_distance(clusters[i], clusters[j])  \n",
    "                if dist < min_dist: \n",
    "                    min_dist = dist \n",
    "                    pair_to_merge = (i, j) \n",
    "        i, j = pair_to_merge \n",
    "        clusters[i].extend(clusters[j]) \n",
    "        clusters.pop(j) \n",
    "    return clusters \n",
    "\n",
    "n = int(input(\"Enter number of data points: \")) \n",
    "data = [] \n",
    "print(\"Enter each point (x y):\") \n",
    "for _ in range(n): \n",
    "    x, y = map(float, input().split()) \n",
    "    data.append([x, y]) \n",
    "\n",
    "k = int(input(\"Enter number of clusters: \")) \n",
    "clusters = agglomerative_clustering(data, k) \n",
    "\n",
    "print(\"\\nClusters:\")\n",
    "for idx, cluster in enumerate(clusters, 1): \n",
    "    print(f\"Cluster {idx}: {cluster}\")"
   ]
  },
  {
   "cell_type": "code",
   "execution_count": 15,
   "id": "a1d3edf3-cca3-49f2-b997-4e58a215baa1",
   "metadata": {},
   "outputs": [
    {
     "name": "stdin",
     "output_type": "stream",
     "text": [
      "Enter number of data points:  6\n",
      "Point 1 (x y):  0.4 0.53\n",
      "Point 2 (x y):  0.22 0.38\n",
      "Point 3 (x y):  0.35 0.32\n",
      "Point 4 (x y):  0.26 0.19\n",
      "Point 5 (x y):  0.08 0.41\n",
      "Point 6 (x y):  0.45 0.30\n",
      "Enter number of clusters:  4\n"
     ]
    },
    {
     "name": "stdout",
     "output_type": "stream",
     "text": [
      "\n",
      "Clusters:\n",
      "Cluster 1: [[0.4, 0.53]]\n",
      "Cluster 2: [[0.22, 0.38], [0.35, 0.32], [0.45, 0.3]]\n",
      "Cluster 3: [[0.26, 0.19]]\n",
      "Cluster 4: [[0.08, 0.41]]\n"
     ]
    }
   ],
   "source": [
    "import math\n",
    "\n",
    "def euclidean(p1, p2): \n",
    "    return math.sqrt((p1[0] - p2[0]) ** 2 + (p1[1] - p2[1]) ** 2)\n",
    "\n",
    "def cluster_distance(c1, c2): \n",
    "    return min(euclidean(p1, p2) for p1 in c1 for p2 in c2)\n",
    "\n",
    "def agglomerative_clustering(data, k): \n",
    "    clusters = [[[x, y]] for x, y in data]  # ensure each cluster is a list of points\n",
    "    while len(clusters) > k: \n",
    "        min_dist = float('inf') \n",
    "        pair_to_merge = (0, 1)\n",
    "        for i in range(len(clusters)): \n",
    "            for j in range(i + 1, len(clusters)): \n",
    "                dist = cluster_distance(clusters[i], clusters[j])  \n",
    "                if dist < min_dist: \n",
    "                    min_dist = dist \n",
    "                    pair_to_merge = (i, j)\n",
    "        i, j = pair_to_merge\n",
    "        clusters[i] = clusters[i] + clusters[j]  # merge clusters\n",
    "        clusters.pop(j)\n",
    "    return clusters\n",
    "\n",
    "n = int(input(\"Enter number of data points: \")) \n",
    "data = [list(map(float, input(f\"Point {i+1} (x y): \").split())) for i in range(n)]\n",
    "k = int(input(\"Enter number of clusters: \")) \n",
    "clusters = agglomerative_clustering(data, k)\n",
    "\n",
    "print(\"\\nClusters:\")\n",
    "for idx, cluster in enumerate(clusters, 1): \n",
    "    print(f\"Cluster {idx}: {cluster}\")"
   ]
  },
  {
   "cell_type": "code",
   "execution_count": 7,
   "id": "7474041f-8b91-4d17-bf28-2caf6d46eaa2",
   "metadata": {},
   "outputs": [
    {
     "name": "stdin",
     "output_type": "stream",
     "text": [
      "Enter number of data points:  6\n"
     ]
    },
    {
     "name": "stdout",
     "output_type": "stream",
     "text": [
      "Enter each point (x y):\n"
     ]
    },
    {
     "name": "stdin",
     "output_type": "stream",
     "text": [
      " 0.4 0.53\n",
      " 0.22 0.38\n",
      " 0.35 0.32\n",
      " 0.26 0.19\n",
      " 0.08 0.41\n",
      " 0.45 0.30\n",
      "Enter number of clusters:  5\n"
     ]
    },
    {
     "name": "stdout",
     "output_type": "stream",
     "text": [
      "\n",
      "Clusters:\n",
      "Cluster 1: [[0.4, 0.53]]\n",
      "Cluster 2: [[0.22, 0.38]]\n",
      "Cluster 3: [[0.35, 0.32], [0.45, 0.3]]\n",
      "Cluster 4: [[0.26, 0.19]]\n",
      "Cluster 5: [[0.08, 0.41]]\n"
     ]
    }
   ],
   "source": [
    "import math\n",
    "\n",
    "def euclidean(p1, p2): \n",
    "    x1, y1 = p1\n",
    "    x2, y2 = p2 \n",
    "    return math.sqrt((x1 - x2) ** 2 + (y1 - y2) ** 2)\n",
    "\n",
    "def cluster_distance(c1, c2): \n",
    "    return min(euclidean(p1, p2) for p1 in c1 for p2 in c2)\n",
    "\n",
    "def agglomerative_clustering(data, k): \n",
    "    clusters = [[point] for point in data] \n",
    "    while len(clusters) > k: \n",
    "        min_dist = float('inf') \n",
    "        pair_to_merge = (0, 1) \n",
    "        for i in range(len(clusters)): \n",
    "            for j in range(i + 1, len(clusters)): \n",
    "                dist = cluster_distance(clusters[i], clusters[j])  \n",
    "                if dist < min_dist: \n",
    "                    min_dist = dist \n",
    "                    pair_to_merge = (i, j) \n",
    "        i, j = pair_to_merge \n",
    "        clusters[i].extend(clusters[j]) \n",
    "        clusters.pop(j) \n",
    "    return clusters \n",
    "\n",
    "n = int(input(\"Enter number of data points: \")) \n",
    "data = [] \n",
    "print(\"Enter each point (x y):\") \n",
    "for _ in range(n): \n",
    "    x, y = map(float, input().split()) \n",
    "    data.append([x, y]) \n",
    "\n",
    "k = int(input(\"Enter number of clusters: \")) \n",
    "clusters = agglomerative_clustering(data, k) \n",
    "\n",
    "print(\"\\nClusters:\")\n",
    "for idx, cluster in enumerate(clusters, 1): \n",
    "    print(f\"Cluster {idx}: {cluster}\")"
   ]
  },
  {
   "cell_type": "code",
   "execution_count": null,
   "id": "515c0219-40e8-420e-b4a0-0695803d1f25",
   "metadata": {},
   "outputs": [],
   "source": []
  }
 ],
 "metadata": {
  "kernelspec": {
   "display_name": "Python 3 (ipykernel)",
   "language": "python",
   "name": "python3"
  },
  "language_info": {
   "codemirror_mode": {
    "name": "ipython",
    "version": 3
   },
   "file_extension": ".py",
   "mimetype": "text/x-python",
   "name": "python",
   "nbconvert_exporter": "python",
   "pygments_lexer": "ipython3",
   "version": "3.13.3"
  }
 },
 "nbformat": 4,
 "nbformat_minor": 5
}
