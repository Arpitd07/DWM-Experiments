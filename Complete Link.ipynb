{
 "cells": [
  {
   "cell_type": "code",
   "execution_count": 9,
   "id": "8ddacd9e-4cea-4947-bc77-9b13443f2161",
   "metadata": {},
   "outputs": [
    {
     "name": "stdin",
     "output_type": "stream",
     "text": [
      "Enter the number of data points:  6\n",
      "Point 1 (x y):  0.40 0.53\n",
      "Point 2 (x y):  0.22 0.38\n",
      "Point 3 (x y):  0.35 0.32\n",
      "Point 4 (x y):  0.26 0.19\n",
      "Point 5 (x y):  0.08 0.41\n",
      "Point 6 (x y):  0.45 0.30\n",
      "Enter the number of clusters you require:  3\n"
     ]
    },
    {
     "name": "stdout",
     "output_type": "stream",
     "text": [
      "\n",
      "Clusters: \n",
      "Cluster 1: [[0.4, 0.53]]\n",
      "Cluster 2: [[0.22, 0.38], [0.08, 0.41]]\n",
      "Cluster 3: [[0.35, 0.32], [0.45, 0.3], [0.26, 0.19]]\n"
     ]
    }
   ],
   "source": [
    "import math\n",
    "\n",
    "def euclidean(p1,p2):\n",
    "    return math.sqrt((p1[0] - p2[0]) ** 2 + (p1[1] - p2[1])**2)\n",
    "\n",
    "def cluster_distance(c1,c2):\n",
    "    return max(euclidean(p1,p2) for p1 in c1 for p2 in c2)\n",
    "\n",
    "def agglomeritive_complete(data,k):\n",
    "    cluster = [[[x,y]] for x, y in data]\n",
    "    while len(cluster) > k:\n",
    "        min_dist = float('inf')\n",
    "        pair_to_merge=(0,1)\n",
    "        for i in range(len(cluster)):\n",
    "            for j in range(i+1, len(cluster)):\n",
    "                dist = cluster_distance(cluster[i], cluster[j])\n",
    "                if dist < min_dist:\n",
    "                    min_dist = dist\n",
    "                    pair_to_merge = (i,j)\n",
    "        i,j = pair_to_merge\n",
    "        cluster[i] = cluster[i] + cluster[j]\n",
    "        cluster.pop(j)\n",
    "    return cluster\n",
    "\n",
    "n = int(input(\"Enter the number of data points: \"))\n",
    "data = [list(map(float, input(f\"Point {i+1} (x y): \").split())) for i in range (n)]\n",
    "k = int(input(\"Enter the number of clusters you require: \"))\n",
    "cluster = agglomeritive_complete(data,k)\n",
    "\n",
    "print(\"\\nClusters: \")\n",
    "for idx ,cluster in enumerate(cluster ,1):\n",
    "    print(f\"Cluster {idx}: {cluster}\")"
   ]
  },
  {
   "cell_type": "code",
   "execution_count": null,
   "id": "a38b5e5a-04db-4c0e-b64d-07d849ad4ca8",
   "metadata": {},
   "outputs": [],
   "source": []
  }
 ],
 "metadata": {
  "kernelspec": {
   "display_name": "Python 3 (ipykernel)",
   "language": "python",
   "name": "python3"
  },
  "language_info": {
   "codemirror_mode": {
    "name": "ipython",
    "version": 3
   },
   "file_extension": ".py",
   "mimetype": "text/x-python",
   "name": "python",
   "nbconvert_exporter": "python",
   "pygments_lexer": "ipython3",
   "version": "3.13.3"
  }
 },
 "nbformat": 4,
 "nbformat_minor": 5
}
