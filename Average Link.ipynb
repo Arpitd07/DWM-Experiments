{
 "cells": [
  {
   "cell_type": "code",
   "execution_count": 7,
   "id": "7abc970c-e31e-4933-b1d4-6bf9354068b3",
   "metadata": {},
   "outputs": [
    {
     "name": "stdin",
     "output_type": "stream",
     "text": [
      "Enter the number of values:  6\n",
      "Point 1 (x y):  0.4 0.53\n",
      "Point 2 (x y):  0.22 0.38\n",
      "Point 3 (x y):  0.35 0.32\n",
      "Point 4 (x y):  0.26 0.19\n",
      "Point 5 (x y):  0.08 0.41\n",
      "Point 6 (x y):  0.45 0.30\n",
      "Enter the number of cluster:  4\n"
     ]
    },
    {
     "name": "stdout",
     "output_type": "stream",
     "text": [
      "\n",
      "Cluster: \n",
      "Cluster 1: [[0.4, 0.53]]\n",
      "Cluster 2: [[0.22, 0.38], [0.08, 0.41]]\n",
      "Cluster 3: [[0.35, 0.32], [0.45, 0.3]]\n",
      "Cluster 4: [[0.26, 0.19]]\n"
     ]
    }
   ],
   "source": [
    "import math\n",
    "\n",
    "def euclidean(p1,p2):\n",
    "    return math.sqrt((p1[0] - p2[0])**2 + (p1[1] - p2[1])**2)\n",
    "\n",
    "def cluster_dist(c1,c2):\n",
    "    return sum(euclidean(p1,p2) for p1 in c1 for p2 in c2 ) / (len(c1) * len(c2))\n",
    "\n",
    "def agglomeritive_avg(data ,k):\n",
    "    cluster = [[[x,y]] for x, y in data]\n",
    "    while len(cluster) > k:\n",
    "        min_dist = float('inf')\n",
    "        pair_to_merge = (0,1)\n",
    "        for i in range (len(cluster)):\n",
    "            for j in range (i+1, len(cluster)):\n",
    "                dist = cluster_dist(cluster[i],cluster[j])\n",
    "                if dist < min_dist:\n",
    "                    min_dist = dist\n",
    "                    pair_to_merge = (i, j)\n",
    "        i, j = pair_to_merge\n",
    "        cluster[i] = cluster[i] + cluster[j]\n",
    "        cluster.pop(j)\n",
    "    return cluster\n",
    "\n",
    "n = int(input(\"Enter the number of values: \"))\n",
    "data = [list(map(float, input(f\"Point {i+1} (x y): \").split())) for i in range(n)]\n",
    "k = int(input(\"Enter the number of cluster: \"))\n",
    "cluster = agglomeritive_avg(data,k)\n",
    "\n",
    "print(\"\\nCluster: \")\n",
    "for idx, cluster in enumerate(cluster, 1):\n",
    "    print(f\"Cluster {idx}: {cluster}\")               "
   ]
  },
  {
   "cell_type": "code",
   "execution_count": null,
   "id": "2453b20e-9bb2-40fd-a7ab-41c4007dd1d3",
   "metadata": {},
   "outputs": [],
   "source": []
  }
 ],
 "metadata": {
  "kernelspec": {
   "display_name": "Python 3 (ipykernel)",
   "language": "python",
   "name": "python3"
  },
  "language_info": {
   "codemirror_mode": {
    "name": "ipython",
    "version": 3
   },
   "file_extension": ".py",
   "mimetype": "text/x-python",
   "name": "python",
   "nbconvert_exporter": "python",
   "pygments_lexer": "ipython3",
   "version": "3.13.3"
  }
 },
 "nbformat": 4,
 "nbformat_minor": 5
}
