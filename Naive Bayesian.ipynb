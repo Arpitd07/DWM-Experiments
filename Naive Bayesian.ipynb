{
 "cells": [
  {
   "cell_type": "code",
   "execution_count": 17,
   "id": "fb1689b8-0490-4162-8751-9367dd209d15",
   "metadata": {},
   "outputs": [
    {
     "name": "stdout",
     "output_type": "stream",
     "text": [
      "Enter the Weather Conditions: \n"
     ]
    },
    {
     "name": "stdin",
     "output_type": "stream",
     "text": [
      "Outlook (Sunny/Overcast/Rainy):  rainy\n",
      "Temp (Hot/Mild/Cool):  cool\n",
      "Humidity (High/Normal):  normal\n",
      "Wind (Weak/Strong):  strong\n"
     ]
    },
    {
     "name": "stdout",
     "output_type": "stream",
     "text": [
      "\n",
      "Prior Probabilities: \n",
      "P(yes) = 0.643\n",
      "P(no) = 0.357\n",
      "\n",
      "Likelihoods for Yes: \n",
      "P(outlook = rainy) | Plays (Yes) = 0.333\n",
      "P(temperature = cool) | Plays (Yes) = 0.333\n",
      "P(humidity = normal) | Plays (Yes) = 0.636\n",
      "P(wind = strong) | Plays (Yes) = 0.364\n",
      "\n",
      "Likelihoods for No: \n",
      "P(outlook = rainy) | Plays (No) = 0.375\n",
      "P(temperature = cool) | Plays (No) = 0.250\n",
      "P(humidity = normal) | Plays (No) = 0.286\n",
      "P(wind = strong) | Plays (No) = 0.571\n",
      "\n",
      "Final Probabilities: \n",
      "P(plays = yes) | input = 0.017\n",
      "P(plays = no) | input = 0.005\n",
      "Prediction for {'outlook': 'rainy', 'temperature': 'cool', 'humidity': 'normal', 'wind': 'strong'}: will play -> Yes\n"
     ]
    }
   ],
   "source": [
    "import pandas as pd\n",
    "\n",
    "df = pd.read_excel(r'C:\\Users\\Dell\\OneDrive\\Desktop\\data.xlsx')\n",
    "data = df.to_dict(orient = 'records')\n",
    "\n",
    "#target Value = Yes or No\n",
    "def calculate_prior(data, target_value):\n",
    "    count = sum(1 for item in data if item['play'].lower() == target_value.lower())\n",
    "    return count / len(data)\n",
    "\n",
    "def calculate_likelihood(data, feature_value, feature_name, target_value):\n",
    "    count_feature_and_target = sum(\n",
    "        1 for item in data if item[feature_name].lower() == feature_value.lower() and item['play'].lower() == target_value.lower()\n",
    "    )\n",
    "    count_target = sum(1 for item in data if item['play'].lower() == target_value.lower())\n",
    "    unique_vals = len(set(item[feature_name].lower() for item in data))\n",
    "\n",
    "    return (count_feature_and_target + 1) / (count_target + unique_vals)\n",
    "\n",
    "def predict(data, input_data):\n",
    "    prior_yes = calculate_prior(data, 'yes')\n",
    "    prior_no = calculate_prior(data, 'no')\n",
    "\n",
    "    print(f\"\\nPrior Probabilities: \")\n",
    "    print(f\"P(yes) = {prior_yes:.3f}\")\n",
    "    print(f\"P(no) = {prior_no:.3f}\")\n",
    "\n",
    "    prob_yes = prior_yes\n",
    "    prob_no = prior_no\n",
    "\n",
    "    print(\"\\nLikelihoods for Yes: \")\n",
    "    for feature, value in input_data.items():\n",
    "        likelihood = calculate_likelihood(data, value, feature, 'yes')\n",
    "        print(f\"P({feature} = {value}) | Plays (Yes) = {likelihood:.3f}\")\n",
    "        prob_yes *= likelihood\n",
    "    \n",
    "    print(\"\\nLikelihoods for No: \")\n",
    "    for feature, value in input_data.items():\n",
    "        likelihood = calculate_likelihood(data, value, feature, 'no')\n",
    "        print(f\"P({feature} = {value}) | Plays (No) = {likelihood:.3f}\")\n",
    "        prob_no *= likelihood\n",
    "\n",
    "    print(\"\\nFinal Probabilities: \")\n",
    "    print(f\"P(plays = yes) | input = {prob_yes:.3f}\")\n",
    "    print(f\"P(plays = no) | input = {prob_no:.3f}\")\n",
    "\n",
    "    return 'Yes' if prob_yes > prob_no else 'No'\n",
    "\n",
    "print(\"Enter the Weather Conditions: \")\n",
    "outlook = input(\"Outlook (Sunny/Overcast/Rainy): \").strip().lower()\n",
    "temperature = input(\"Temp (Hot/Mild/Cool): \").strip().lower()\n",
    "humidity = input(\"Humidity (High/Normal): \").strip().lower()\n",
    "wind = input(\"Wind (Weak/Strong): \").strip().lower()\n",
    "\n",
    "input_data = {\n",
    "    'outlook' : outlook,\n",
    "    'temperature' : temperature,\n",
    "    'humidity' : humidity,\n",
    "    'wind' : wind\n",
    "}\n",
    "\n",
    "prediction = predict(data,input_data)\n",
    "print(f\"Prediction for {input_data}: will play -> {prediction}\")"
   ]
  },
  {
   "cell_type": "code",
   "execution_count": null,
   "id": "2d3eea87-921e-403c-8814-17ee835152bc",
   "metadata": {},
   "outputs": [],
   "source": []
  }
 ],
 "metadata": {
  "kernelspec": {
   "display_name": "Python 3 (ipykernel)",
   "language": "python",
   "name": "python3"
  },
  "language_info": {
   "codemirror_mode": {
    "name": "ipython",
    "version": 3
   },
   "file_extension": ".py",
   "mimetype": "text/x-python",
   "name": "python",
   "nbconvert_exporter": "python",
   "pygments_lexer": "ipython3",
   "version": "3.13.3"
  }
 },
 "nbformat": 4,
 "nbformat_minor": 5
}
